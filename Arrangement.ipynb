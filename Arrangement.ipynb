{
 "cells": [
  {
   "cell_type": "markdown",
   "metadata": {},
   "source": [
    "# Arrange in a Circle\n",
    "\n",
    "The attendees need to be arranged in a circle around the pie chart, the theory is to set 0,0 as the center of the pie chart and I'll calculate an x, y coordinate to place the button."
   ]
  },
  {
   "cell_type": "code",
   "execution_count": 2,
   "metadata": {},
   "outputs": [],
   "source": [
    "import numpy as np \n",
    "import matplotlib.pyplot as plt\n",
    "import math "
   ]
  },
  {
   "cell_type": "code",
   "execution_count": 3,
   "metadata": {},
   "outputs": [],
   "source": [
    "# Plan: \n",
    "# assign values for count of buttons \n",
    "# assign value for length from center\n",
    "# divide 2pi by number of buttons \n",
    "# generate points for each incremental angle"
   ]
  },
  {
   "cell_type": "code",
   "execution_count": 34,
   "metadata": {},
   "outputs": [],
   "source": [
    "button_count = 5\n",
    "distance = 2"
   ]
  },
  {
   "cell_type": "code",
   "execution_count": 42,
   "metadata": {},
   "outputs": [],
   "source": [
    "# button count is the only thing this funciton actually should take in. \n",
    "# once we've decided how much space to take up I'll come back and make\n",
    "# distance work\n",
    "def arrange_buttons(button_count):\n",
    "    # the buttons go around a circle at equal distances (currently)\n",
    "    angles = (math.tau) / button_count\n",
    "    # iterate through the number of buttons getting the sin and cos of the \n",
    "    # angle for each (to get x, y coordinates)\n",
    "    # distance is currently a global variable, I'll have to fix that with\n",
    "    # the next release\n",
    "    button_points = [(math.sin(button * angles) * distance, math.cos(button * angles) * distance) for button in range(button_count)]\n",
    "    return button_points"
   ]
  },
  {
   "cell_type": "code",
   "execution_count": 43,
   "metadata": {},
   "outputs": [],
   "source": [
    "buttons = arrange_buttons(button_count)"
   ]
  },
  {
   "cell_type": "code",
   "execution_count": 44,
   "metadata": {},
   "outputs": [
    {
     "data": {
      "image/png": "[encoded data removed]",
      "text/plain": [
       "<Figure size 432x288 with 1 Axes>"
      ]
     },
     "metadata": {
      "needs_background": "light"
     },
     "output_type": "display_data"
    }
   ],
   "source": [
    "x, y = zip(*buttons)\n",
    "fig = plt.figure()\n",
    "ax = fig.add_subplot(111)\n",
    "plt.scatter(x, y)\n",
    "plt.axhline(0, color='red')\n",
    "plt.axvline(0, color='red')\n",
    "plt.xlim(-3,3)\n",
    "plt.ylim(-3,3)\n",
    "ax.set_aspect('equal', adjustable='box')"
   ]
  },
  {
   "cell_type": "code",
   "execution_count": null,
   "metadata": {},
   "outputs": [],
   "source": []
  }
 ],
 "metadata": {
  "kernelspec": {
   "display_name": "Python 3",
   "language": "python",
   "name": "python3"
  },
  "language_info": {
   "codemirror_mode": {
    "name": "ipython",
    "version": 3
   },
   "file_extension": ".py",
   "mimetype": "text/x-python",
   "name": "python",
   "nbconvert_exporter": "python",
   "pygments_lexer": "ipython3",
   "version": "3.7.3"
  }
 },
 "nbformat": 4,
 "nbformat_minor": 4
}
